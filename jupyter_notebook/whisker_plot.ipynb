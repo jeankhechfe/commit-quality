{
 "cells": [
  {
   "cell_type": "code",
   "execution_count": 1,
   "metadata": {},
   "outputs": [],
   "source": [
    "import pandas as pd\n",
    "from matplotlib import pyplot as plt"
   ]
  },
  {
   "cell_type": "code",
   "execution_count": 2,
   "metadata": {},
   "outputs": [],
   "source": [
    "data = pd.read_csv('../data/data_msg_only(new tags).csv')"
   ]
  },
  {
   "cell_type": "code",
   "execution_count": 3,
   "metadata": {
    "scrolled": true
   },
   "outputs": [
    {
     "name": "stdout",
     "output_type": "stream",
     "text": [
      "(413, 9)\n",
      "(296, 9)\n",
      "(291, 9)\n"
     ]
    }
   ],
   "source": [
    "data_good = data[data.label == 'good']\n",
    "data_neutral = data[data.label == 'neutral']\n",
    "data_bad = data[data.label == 'bad']\n",
    "\n",
    "print(data_good.shape)\n",
    "print(data_neutral.shape)\n",
    "print(data_bad.shape)"
   ]
  },
  {
   "cell_type": "code",
   "execution_count": 4,
   "metadata": {},
   "outputs": [],
   "source": [
    "x1 = data_good['characters_count']\n",
    "x2 = data_neutral['characters_count']\n",
    "x3 = data_bad['characters_count']"
   ]
  },
  {
   "cell_type": "code",
   "execution_count": 84,
   "metadata": {
    "scrolled": true
   },
   "outputs": [
    {
     "data": {
      "image/png": "[encoded data removed]",
      "text/plain": [
       "<Figure size 432x288 with 1 Axes>"
      ]
     },
     "metadata": {
      "needs_background": "light"
     },
     "output_type": "display_data"
    }
   ],
   "source": [
    "plt.boxplot([x1], labels=[\"Good\"], vert=False,  widths=0.3)\n",
    "plt.xlabel('Chrarcters Count')\n",
    "plt.show()"
   ]
  },
  {
   "cell_type": "code",
   "execution_count": 83,
   "metadata": {
    "scrolled": true
   },
   "outputs": [
    {
     "data": {
      "image/png": "[encoded data removed]",
      "text/plain": [
       "<Figure size 432x288 with 1 Axes>"
      ]
     },
     "metadata": {
      "needs_background": "light"
     },
     "output_type": "display_data"
    }
   ],
   "source": [
    "plt.boxplot([x1, x3], labels=[\"Good\", \"Bad\"], vert=False, showfliers=False, widths=0.5)\n",
    "plt.xlabel('Chrarcters Count')\n",
    "plt.show()"
   ]
  },
  {
   "cell_type": "code",
   "execution_count": 82,
   "metadata": {
    "scrolled": false
   },
   "outputs": [
    {
     "data": {
      "image/png": "[encoded data removed]",
      "text/plain": [
       "<Figure size 432x288 with 1 Axes>"
      ]
     },
     "metadata": {
      "needs_background": "light"
     },
     "output_type": "display_data"
    }
   ],
   "source": [
    "plt.boxplot([x1, x2, x3], labels=[\"Good\", \"Neutral\", \"Bad\"], vert=False,  widths=0.7)\n",
    "plt.xlabel('Chrarcters Count')\n",
    "plt.show()"
   ]
  },
  {
   "cell_type": "code",
   "execution_count": 7,
   "metadata": {},
   "outputs": [],
   "source": [
    "import seaborn as sns\n",
    "from statannot import add_stat_annotation"
   ]
  },
  {
   "cell_type": "code",
   "execution_count": 10,
   "metadata": {},
   "outputs": [
    {
     "name": "stdout",
     "output_type": "stream",
     "text": [
      "p-value annotation legend:\n",
      "ns: 5.00e-02 < p <= 1.00e+00\n",
      "*: 1.00e-02 < p <= 5.00e-02\n",
      "**: 1.00e-03 < p <= 1.00e-02\n",
      "***: 1.00e-04 < p <= 1.00e-03\n",
      "****: p <= 1.00e-04\n",
      "\n",
      "good v.s. neutral: Mann-Whitney-Wilcoxon test two-sided with Bonferroni correction, P_val=4.746e-14 U_stat=4.047e+04\n",
      "neutral v.s. bad: Mann-Whitney-Wilcoxon test two-sided with Bonferroni correction, P_val=2.676e-02 U_stat=3.770e+04\n",
      "good v.s. bad: Mann-Whitney-Wilcoxon test two-sided with Bonferroni correction, P_val=2.268e-10 U_stat=4.280e+04\n"
     ]
    },
    {
     "data": {
      "text/plain": [
       "(<AxesSubplot:xlabel='label', ylabel='characters_count'>,\n",
       " [<statannot.StatResult.StatResult at 0x23194a10c70>,\n",
       "  <statannot.StatResult.StatResult at 0x23194a10a60>,\n",
       "  <statannot.StatResult.StatResult at 0x231945d2fa0>])"
      ]
     },
     "execution_count": 10,
     "metadata": {},
     "output_type": "execute_result"
    },
    {
     "data": {
      "image/png": "[encoded data removed]",
      "text/plain": [
       "<Figure size 432x288 with 1 Axes>"
      ]
     },
     "metadata": {},
     "output_type": "display_data"
    }
   ],
   "source": [
    "sns.set(style=\"whitegrid\")\n",
    "\n",
    "x = \"label\"\n",
    "y = \"characters_count\"\n",
    "order = ['good', 'neutral', 'bad']\n",
    "ax = sns.boxplot(data=data, x=x, y=y, order=order)\n",
    "add_stat_annotation(ax, data=data, x=x, y=y, order=order,\n",
    "                    box_pairs=[(\"good\", \"bad\"), (\"good\", \"neutral\"), (\"neutral\", \"bad\")],\n",
    "                    test='Mann-Whitney', text_format='star', loc='outside', verbose=2)"
   ]
  }
 ],
 "metadata": {
  "kernelspec": {
   "display_name": "Python 3",
   "language": "python",
   "name": "python3"
  },
  "language_info": {
   "codemirror_mode": {
    "name": "ipython",
    "version": 3
   },
   "file_extension": ".py",
   "mimetype": "text/x-python",
   "name": "python",
   "nbconvert_exporter": "python",
   "pygments_lexer": "ipython3",
   "version": "3.9.4"
  }
 },
 "nbformat": 4,
 "nbformat_minor": 4
}
