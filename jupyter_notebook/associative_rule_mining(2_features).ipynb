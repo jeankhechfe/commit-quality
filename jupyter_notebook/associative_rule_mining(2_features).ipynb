{
 "cells": [
  {
   "cell_type": "code",
   "execution_count": 26,
   "metadata": {},
   "outputs": [],
   "source": [
    "import pandas as pd\n",
    "from mlxtend.preprocessing import TransactionEncoder\n",
    "from mlxtend.frequent_patterns import apriori, fpmax, fpgrowth\n",
    "from mlxtend.frequent_patterns import association_rules"
   ]
  },
  {
   "cell_type": "code",
   "execution_count": 27,
   "metadata": {},
   "outputs": [],
   "source": [
    "data = pd.read_csv('../data/data_msg_only(new tags).csv')\n",
    "data = data.drop(columns=['and_or_count', 'blank_line', 'capital_start', 'end_dot', 'imperative_start', 'wrap_to_72'])"
   ]
  },
  {
   "cell_type": "code",
   "execution_count": 28,
   "metadata": {},
   "outputs": [],
   "source": [
    "def custom_round(x, base=10):\n",
    "    return '_' + str(int(base * round(float(x)/base)))"
   ]
  },
  {
   "cell_type": "code",
   "execution_count": 29,
   "metadata": {},
   "outputs": [],
   "source": [
    "def map_verb_direct_obj(x):\n",
    "    if x == 0:\n",
    "        return 'Doesn\\'t meet the pattern'\n",
    "    if x == 1:\n",
    "        return 'Meet the pattern'"
   ]
  },
  {
   "cell_type": "code",
   "execution_count": 30,
   "metadata": {},
   "outputs": [],
   "source": [
    "data['characters_count'] = pd.Series(data['characters_count']).apply(lambda x: custom_round(x))\n",
    "data['verb_direct_obj'] = pd.Series(data['verb_direct_obj']).apply(lambda x: map_verb_direct_obj(x))"
   ]
  },
  {
   "cell_type": "code",
   "execution_count": 31,
   "metadata": {},
   "outputs": [
    {
     "data": {
      "text/html": [
       "<div>\n",
       "<style scoped>\n",
       "    .dataframe tbody tr th:only-of-type {\n",
       "        vertical-align: middle;\n",
       "    }\n",
       "\n",
       "    .dataframe tbody tr th {\n",
       "        vertical-align: top;\n",
       "    }\n",
       "\n",
       "    .dataframe thead th {\n",
       "        text-align: right;\n",
       "    }\n",
       "</style>\n",
       "<table border=\"1\" class=\"dataframe\">\n",
       "  <thead>\n",
       "    <tr style=\"text-align: right;\">\n",
       "      <th></th>\n",
       "      <th>characters_count</th>\n",
       "      <th>verb_direct_obj</th>\n",
       "      <th>label</th>\n",
       "    </tr>\n",
       "  </thead>\n",
       "  <tbody>\n",
       "    <tr>\n",
       "      <th>0</th>\n",
       "      <td>_30</td>\n",
       "      <td>Meet the pattern</td>\n",
       "      <td>good</td>\n",
       "    </tr>\n",
       "    <tr>\n",
       "      <th>1</th>\n",
       "      <td>_40</td>\n",
       "      <td>Meet the pattern</td>\n",
       "      <td>good</td>\n",
       "    </tr>\n",
       "    <tr>\n",
       "      <th>2</th>\n",
       "      <td>_40</td>\n",
       "      <td>Meet the pattern</td>\n",
       "      <td>good</td>\n",
       "    </tr>\n",
       "    <tr>\n",
       "      <th>3</th>\n",
       "      <td>_40</td>\n",
       "      <td>Meet the pattern</td>\n",
       "      <td>good</td>\n",
       "    </tr>\n",
       "    <tr>\n",
       "      <th>4</th>\n",
       "      <td>_30</td>\n",
       "      <td>Meet the pattern</td>\n",
       "      <td>good</td>\n",
       "    </tr>\n",
       "  </tbody>\n",
       "</table>\n",
       "</div>"
      ],
      "text/plain": [
       "  characters_count   verb_direct_obj label\n",
       "0              _30  Meet the pattern  good\n",
       "1              _40  Meet the pattern  good\n",
       "2              _40  Meet the pattern  good\n",
       "3              _40  Meet the pattern  good\n",
       "4              _30  Meet the pattern  good"
      ]
     },
     "execution_count": 31,
     "metadata": {},
     "output_type": "execute_result"
    }
   ],
   "source": [
    "data.head()"
   ]
  },
  {
   "cell_type": "code",
   "execution_count": 32,
   "metadata": {},
   "outputs": [],
   "source": [
    "dataset  = data.values.tolist()"
   ]
  },
  {
   "cell_type": "code",
   "execution_count": 33,
   "metadata": {},
   "outputs": [],
   "source": [
    "te = TransactionEncoder()\n",
    "te_ary = te.fit(dataset).transform(dataset)\n",
    "df = pd.DataFrame(te_ary, columns=te.columns_)"
   ]
  },
  {
   "cell_type": "code",
   "execution_count": 22,
   "metadata": {
    "scrolled": true
   },
   "outputs": [
    {
     "data": {
      "text/html": [
       "<div>\n",
       "<style scoped>\n",
       "    .dataframe tbody tr th:only-of-type {\n",
       "        vertical-align: middle;\n",
       "    }\n",
       "\n",
       "    .dataframe tbody tr th {\n",
       "        vertical-align: top;\n",
       "    }\n",
       "\n",
       "    .dataframe thead th {\n",
       "        text-align: right;\n",
       "    }\n",
       "</style>\n",
       "<table border=\"1\" class=\"dataframe\">\n",
       "  <thead>\n",
       "    <tr style=\"text-align: right;\">\n",
       "      <th></th>\n",
       "      <th>support</th>\n",
       "      <th>itemsets</th>\n",
       "    </tr>\n",
       "  </thead>\n",
       "  <tbody>\n",
       "    <tr>\n",
       "      <th>0</th>\n",
       "      <td>0.793</td>\n",
       "      <td>(Meet the pattern)</td>\n",
       "    </tr>\n",
       "    <tr>\n",
       "      <th>1</th>\n",
       "      <td>0.413</td>\n",
       "      <td>(good)</td>\n",
       "    </tr>\n",
       "    <tr>\n",
       "      <th>2</th>\n",
       "      <td>0.207</td>\n",
       "      <td>(_40)</td>\n",
       "    </tr>\n",
       "    <tr>\n",
       "      <th>3</th>\n",
       "      <td>0.291</td>\n",
       "      <td>(bad)</td>\n",
       "    </tr>\n",
       "    <tr>\n",
       "      <th>4</th>\n",
       "      <td>0.296</td>\n",
       "      <td>(neutral)</td>\n",
       "    </tr>\n",
       "    <tr>\n",
       "      <th>5</th>\n",
       "      <td>0.207</td>\n",
       "      <td>(Doesn't meet the pattern)</td>\n",
       "    </tr>\n",
       "    <tr>\n",
       "      <th>6</th>\n",
       "      <td>0.409</td>\n",
       "      <td>(Meet the pattern, good)</td>\n",
       "    </tr>\n",
       "    <tr>\n",
       "      <th>7</th>\n",
       "      <td>0.248</td>\n",
       "      <td>(neutral, Meet the pattern)</td>\n",
       "    </tr>\n",
       "  </tbody>\n",
       "</table>\n",
       "</div>"
      ],
      "text/plain": [
       "   support                     itemsets\n",
       "0    0.793           (Meet the pattern)\n",
       "1    0.413                       (good)\n",
       "2    0.207                        (_40)\n",
       "3    0.291                        (bad)\n",
       "4    0.296                    (neutral)\n",
       "5    0.207   (Doesn't meet the pattern)\n",
       "6    0.409     (Meet the pattern, good)\n",
       "7    0.248  (neutral, Meet the pattern)"
      ]
     },
     "execution_count": 22,
     "metadata": {},
     "output_type": "execute_result"
    }
   ],
   "source": [
    "frequent_itemsets = fpgrowth(df, min_support=0.2, use_colnames=True)\n",
    "frequent_itemsets"
   ]
  },
  {
   "cell_type": "code",
   "execution_count": 36,
   "metadata": {},
   "outputs": [
    {
     "data": {
      "text/html": [
       "<div>\n",
       "<style scoped>\n",
       "    .dataframe tbody tr th:only-of-type {\n",
       "        vertical-align: middle;\n",
       "    }\n",
       "\n",
       "    .dataframe tbody tr th {\n",
       "        vertical-align: top;\n",
       "    }\n",
       "\n",
       "    .dataframe thead th {\n",
       "        text-align: right;\n",
       "    }\n",
       "</style>\n",
       "<table border=\"1\" class=\"dataframe\">\n",
       "  <thead>\n",
       "    <tr style=\"text-align: right;\">\n",
       "      <th></th>\n",
       "      <th>support</th>\n",
       "      <th>itemsets</th>\n",
       "    </tr>\n",
       "  </thead>\n",
       "  <tbody>\n",
       "    <tr>\n",
       "      <th>0</th>\n",
       "      <td>0.207</td>\n",
       "      <td>(Doesn't meet the pattern)</td>\n",
       "    </tr>\n",
       "    <tr>\n",
       "      <th>1</th>\n",
       "      <td>0.793</td>\n",
       "      <td>(Meet the pattern)</td>\n",
       "    </tr>\n",
       "    <tr>\n",
       "      <th>2</th>\n",
       "      <td>0.207</td>\n",
       "      <td>(_40)</td>\n",
       "    </tr>\n",
       "    <tr>\n",
       "      <th>3</th>\n",
       "      <td>0.291</td>\n",
       "      <td>(bad)</td>\n",
       "    </tr>\n",
       "    <tr>\n",
       "      <th>4</th>\n",
       "      <td>0.413</td>\n",
       "      <td>(good)</td>\n",
       "    </tr>\n",
       "    <tr>\n",
       "      <th>5</th>\n",
       "      <td>0.296</td>\n",
       "      <td>(neutral)</td>\n",
       "    </tr>\n",
       "    <tr>\n",
       "      <th>6</th>\n",
       "      <td>0.409</td>\n",
       "      <td>(Meet the pattern, good)</td>\n",
       "    </tr>\n",
       "    <tr>\n",
       "      <th>7</th>\n",
       "      <td>0.248</td>\n",
       "      <td>(neutral, Meet the pattern)</td>\n",
       "    </tr>\n",
       "  </tbody>\n",
       "</table>\n",
       "</div>"
      ],
      "text/plain": [
       "   support                     itemsets\n",
       "0    0.207   (Doesn't meet the pattern)\n",
       "1    0.793           (Meet the pattern)\n",
       "2    0.207                        (_40)\n",
       "3    0.291                        (bad)\n",
       "4    0.413                       (good)\n",
       "5    0.296                    (neutral)\n",
       "6    0.409     (Meet the pattern, good)\n",
       "7    0.248  (neutral, Meet the pattern)"
      ]
     },
     "execution_count": 36,
     "metadata": {},
     "output_type": "execute_result"
    }
   ],
   "source": [
    "frequent_itemsets = apriori(df, min_support=0.2, use_colnames=True)\n",
    "frequent_itemsets"
   ]
  },
  {
   "cell_type": "code",
   "execution_count": 37,
   "metadata": {},
   "outputs": [
    {
     "data": {
      "text/html": [
       "<div>\n",
       "<style scoped>\n",
       "    .dataframe tbody tr th:only-of-type {\n",
       "        vertical-align: middle;\n",
       "    }\n",
       "\n",
       "    .dataframe tbody tr th {\n",
       "        vertical-align: top;\n",
       "    }\n",
       "\n",
       "    .dataframe thead th {\n",
       "        text-align: right;\n",
       "    }\n",
       "</style>\n",
       "<table border=\"1\" class=\"dataframe\">\n",
       "  <thead>\n",
       "    <tr style=\"text-align: right;\">\n",
       "      <th></th>\n",
       "      <th>antecedents</th>\n",
       "      <th>consequents</th>\n",
       "      <th>antecedent support</th>\n",
       "      <th>consequent support</th>\n",
       "      <th>support</th>\n",
       "      <th>confidence</th>\n",
       "      <th>lift</th>\n",
       "      <th>leverage</th>\n",
       "      <th>conviction</th>\n",
       "    </tr>\n",
       "  </thead>\n",
       "  <tbody>\n",
       "    <tr>\n",
       "      <th>0</th>\n",
       "      <td>(good)</td>\n",
       "      <td>(Meet the pattern)</td>\n",
       "      <td>0.413</td>\n",
       "      <td>0.793</td>\n",
       "      <td>0.409</td>\n",
       "      <td>0.990315</td>\n",
       "      <td>1.248821</td>\n",
       "      <td>0.081491</td>\n",
       "      <td>21.37275</td>\n",
       "    </tr>\n",
       "    <tr>\n",
       "      <th>1</th>\n",
       "      <td>(neutral)</td>\n",
       "      <td>(Meet the pattern)</td>\n",
       "      <td>0.296</td>\n",
       "      <td>0.793</td>\n",
       "      <td>0.248</td>\n",
       "      <td>0.837838</td>\n",
       "      <td>1.056542</td>\n",
       "      <td>0.013272</td>\n",
       "      <td>1.27650</td>\n",
       "    </tr>\n",
       "  </tbody>\n",
       "</table>\n",
       "</div>"
      ],
      "text/plain": [
       "  antecedents         consequents  antecedent support  consequent support  \\\n",
       "0      (good)  (Meet the pattern)               0.413               0.793   \n",
       "1   (neutral)  (Meet the pattern)               0.296               0.793   \n",
       "\n",
       "   support  confidence      lift  leverage  conviction  \n",
       "0    0.409    0.990315  1.248821  0.081491    21.37275  \n",
       "1    0.248    0.837838  1.056542  0.013272     1.27650  "
      ]
     },
     "execution_count": 37,
     "metadata": {},
     "output_type": "execute_result"
    }
   ],
   "source": [
    "rules = association_rules(frequent_itemsets, metric=\"confidence\", min_threshold=0.8)\n",
    "rules"
   ]
  },
  {
   "cell_type": "code",
   "execution_count": 11,
   "metadata": {},
   "outputs": [
    {
     "data": {
      "text/html": [
       "<div>\n",
       "<style scoped>\n",
       "    .dataframe tbody tr th:only-of-type {\n",
       "        vertical-align: middle;\n",
       "    }\n",
       "\n",
       "    .dataframe tbody tr th {\n",
       "        vertical-align: top;\n",
       "    }\n",
       "\n",
       "    .dataframe thead th {\n",
       "        text-align: right;\n",
       "    }\n",
       "</style>\n",
       "<table border=\"1\" class=\"dataframe\">\n",
       "  <thead>\n",
       "    <tr style=\"text-align: right;\">\n",
       "      <th></th>\n",
       "      <th>antecedents</th>\n",
       "      <th>consequents</th>\n",
       "      <th>antecedent support</th>\n",
       "      <th>consequent support</th>\n",
       "      <th>support</th>\n",
       "      <th>confidence</th>\n",
       "      <th>lift</th>\n",
       "      <th>leverage</th>\n",
       "      <th>conviction</th>\n",
       "    </tr>\n",
       "  </thead>\n",
       "  <tbody>\n",
       "    <tr>\n",
       "      <th>0</th>\n",
       "      <td>(good)</td>\n",
       "      <td>(Meet the pattern)</td>\n",
       "      <td>0.413</td>\n",
       "      <td>0.793</td>\n",
       "      <td>0.409</td>\n",
       "      <td>0.990315</td>\n",
       "      <td>1.248821</td>\n",
       "      <td>0.081491</td>\n",
       "      <td>21.372750</td>\n",
       "    </tr>\n",
       "    <tr>\n",
       "      <th>1</th>\n",
       "      <td>(Meet the pattern)</td>\n",
       "      <td>(good)</td>\n",
       "      <td>0.793</td>\n",
       "      <td>0.413</td>\n",
       "      <td>0.409</td>\n",
       "      <td>0.515763</td>\n",
       "      <td>1.248821</td>\n",
       "      <td>0.081491</td>\n",
       "      <td>1.212216</td>\n",
       "    </tr>\n",
       "  </tbody>\n",
       "</table>\n",
       "</div>"
      ],
      "text/plain": [
       "          antecedents         consequents  antecedent support  \\\n",
       "0              (good)  (Meet the pattern)               0.413   \n",
       "1  (Meet the pattern)              (good)               0.793   \n",
       "\n",
       "   consequent support  support  confidence      lift  leverage  conviction  \n",
       "0               0.793    0.409    0.990315  1.248821  0.081491   21.372750  \n",
       "1               0.413    0.409    0.515763  1.248821  0.081491    1.212216  "
      ]
     },
     "execution_count": 11,
     "metadata": {},
     "output_type": "execute_result"
    }
   ],
   "source": [
    "association_rules(frequent_itemsets, metric=\"lift\", min_threshold=1.2)"
   ]
  },
  {
   "cell_type": "code",
   "execution_count": 10,
   "metadata": {
    "scrolled": true
   },
   "outputs": [
    {
     "data": {
      "text/html": [
       "<div>\n",
       "<style scoped>\n",
       "    .dataframe tbody tr th:only-of-type {\n",
       "        vertical-align: middle;\n",
       "    }\n",
       "\n",
       "    .dataframe tbody tr th {\n",
       "        vertical-align: top;\n",
       "    }\n",
       "\n",
       "    .dataframe thead th {\n",
       "        text-align: right;\n",
       "    }\n",
       "</style>\n",
       "<table border=\"1\" class=\"dataframe\">\n",
       "  <thead>\n",
       "    <tr style=\"text-align: right;\">\n",
       "      <th></th>\n",
       "      <th>antecedents</th>\n",
       "      <th>consequents</th>\n",
       "      <th>antecedent support</th>\n",
       "      <th>consequent support</th>\n",
       "      <th>support</th>\n",
       "      <th>confidence</th>\n",
       "      <th>lift</th>\n",
       "      <th>leverage</th>\n",
       "      <th>conviction</th>\n",
       "    </tr>\n",
       "  </thead>\n",
       "  <tbody>\n",
       "    <tr>\n",
       "      <th>0</th>\n",
       "      <td>(good)</td>\n",
       "      <td>(Meet the pattern)</td>\n",
       "      <td>0.413</td>\n",
       "      <td>0.793</td>\n",
       "      <td>0.409</td>\n",
       "      <td>0.990315</td>\n",
       "      <td>1.248821</td>\n",
       "      <td>0.081491</td>\n",
       "      <td>21.37275</td>\n",
       "    </tr>\n",
       "    <tr>\n",
       "      <th>1</th>\n",
       "      <td>(neutral)</td>\n",
       "      <td>(Meet the pattern)</td>\n",
       "      <td>0.296</td>\n",
       "      <td>0.793</td>\n",
       "      <td>0.248</td>\n",
       "      <td>0.837838</td>\n",
       "      <td>1.056542</td>\n",
       "      <td>0.013272</td>\n",
       "      <td>1.27650</td>\n",
       "    </tr>\n",
       "  </tbody>\n",
       "</table>\n",
       "</div>"
      ],
      "text/plain": [
       "  antecedents         consequents  antecedent support  consequent support  \\\n",
       "0      (good)  (Meet the pattern)               0.413               0.793   \n",
       "1   (neutral)  (Meet the pattern)               0.296               0.793   \n",
       "\n",
       "   support  confidence      lift  leverage  conviction  \n",
       "0    0.409    0.990315  1.248821  0.081491    21.37275  \n",
       "1    0.248    0.837838  1.056542  0.013272     1.27650  "
      ]
     },
     "execution_count": 10,
     "metadata": {},
     "output_type": "execute_result"
    }
   ],
   "source": [
    "rules = association_rules(frequent_itemsets, metric=\"confidence\", min_threshold=0.8)\n",
    "rules"
   ]
  }
 ],
 "metadata": {
  "kernelspec": {
   "display_name": "Python 3",
   "language": "python",
   "name": "python3"
  },
  "language_info": {
   "codemirror_mode": {
    "name": "ipython",
    "version": 3
   },
   "file_extension": ".py",
   "mimetype": "text/x-python",
   "name": "python",
   "nbconvert_exporter": "python",
   "pygments_lexer": "ipython3",
   "version": "3.9.2"
  }
 },
 "nbformat": 4,
 "nbformat_minor": 4
}
